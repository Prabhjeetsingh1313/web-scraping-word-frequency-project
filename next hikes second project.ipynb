{
 "cells": [
  {
   "cell_type": "markdown",
   "metadata": {},
   "source": [
    "Tools of trade\n",
    "* installing key libraries\n",
    "* requests: For making HTTP requests \n",
    "* Beautiful Soup: For parsing HTML .\n"
   ]
  },
  {
   "cell_type": "markdown",
   "metadata": {},
   "source": [
    "Installing Libraries"
   ]
  },
  {
   "cell_type": "code",
   "execution_count": 3,
   "metadata": {},
   "outputs": [
    {
     "name": "stdout",
     "output_type": "stream",
     "text": [
      "Requirement already satisfied: requests in c:\\users\\hp\\anaconda3\\lib\\site-packages (2.31.0)\n",
      "Requirement already satisfied: charset-normalizer<4,>=2 in c:\\users\\hp\\anaconda3\\lib\\site-packages (from requests) (2.0.4)\n",
      "Requirement already satisfied: idna<4,>=2.5 in c:\\users\\hp\\anaconda3\\lib\\site-packages (from requests) (3.4)\n",
      "Requirement already satisfied: urllib3<3,>=1.21.1 in c:\\users\\hp\\anaconda3\\lib\\site-packages (from requests) (1.26.16)\n",
      "Requirement already satisfied: certifi>=2017.4.17 in c:\\users\\hp\\anaconda3\\lib\\site-packages (from requests) (2023.7.22)\n",
      "Note: you may need to restart the kernel to use updated packages.\n"
     ]
    }
   ],
   "source": [
    "pip install requests"
   ]
  },
  {
   "cell_type": "code",
   "execution_count": 4,
   "metadata": {},
   "outputs": [
    {
     "name": "stdout",
     "output_type": "stream",
     "text": [
      "Requirement already satisfied: beautifulsoup4 in c:\\users\\hp\\anaconda3\\lib\\site-packages (4.12.2)\n",
      "Requirement already satisfied: soupsieve>1.2 in c:\\users\\hp\\anaconda3\\lib\\site-packages (from beautifulsoup4) (2.4)\n",
      "Note: you may need to restart the kernel to use updated packages.\n"
     ]
    }
   ],
   "source": [
    "pip install beautifulsoup4"
   ]
  },
  {
   "cell_type": "markdown",
   "metadata": {},
   "source": [
    "Importing libraries"
   ]
  },
  {
   "cell_type": "code",
   "execution_count": 12,
   "metadata": {},
   "outputs": [],
   "source": [
    "import requests\n",
    "from bs4 import BeautifulSoup"
   ]
  },
  {
   "cell_type": "markdown",
   "metadata": {},
   "source": [
    "WEB SCRAPING\n",
    "\n",
    "Fetching HTML Content from python.org news Page\n",
    "\n"
   ]
  },
  {
   "cell_type": "code",
   "execution_count": 13,
   "metadata": {},
   "outputs": [
    {
     "name": "stdout",
     "output_type": "stream",
     "text": [
      "New News in the python.org section\n",
      "1.Kicking off 2024 strong, thanks to our community!\n",
      "2.Announcing Python Software Foundation Fellow Members for Q3 2023! 🎉\n",
      "3.Announcing the Deputy Developer in Residence and the Supporting Developer in Residence\n",
      "4.Python 3.13.0 alpha 3 is now available.\n",
      "5.EU’s Cyber Resilience Act Passes with Wins for Open Source\n"
     ]
    }
   ],
   "source": [
    "def get_latest_python_articles():\n",
    "    url=\"http://www.python.org/\"\n",
    "    response=requests.get(url)\n",
    "\n",
    "    if response.status_code==200:\n",
    "        soup=BeautifulSoup(response.text,\"html.parser\")\n",
    "        latest_articles=[]\n",
    "\n",
    "        for article in soup.select(\".blog-widget li\"):\n",
    "            title=article.a.text.strip()\n",
    "            latest_articles.append(title)\n",
    "\n",
    "        return latest_articles\n",
    "\n",
    "    else:\n",
    "        print(f\"fail to retrieve infromation.status code:{response.status_code}\")\n",
    "        return[]\n",
    "\n",
    "if __name__== \"__main__\":\n",
    "        python_articles=get_latest_python_articles()\n",
    "        if  python_articles:\n",
    "            print(\"New News in the python.org section\")\n",
    "            for index,article in enumerate(python_articles,1):\n",
    "                print(f\"{index}.{article}\")\n",
    "\n",
    "        else:\n",
    "            print(\"no articles found\")\n"
   ]
  },
  {
   "cell_type": "markdown",
   "metadata": {},
   "source": [
    "Making a Test File"
   ]
  },
  {
   "cell_type": "code",
   "execution_count": 26,
   "metadata": {},
   "outputs": [],
   "source": [
    "import os\n",
    "\n",
    "# Specify the file path\n",
    "file_path = os.path.join(os.path.expanduser(\"~\"), \"Desktop\", \"LATEST NEWS.txt\")\n",
    "\n",
    "# Create the file\n",
    "with open(file_path, \"w\") as file:\n",
    "    pass\n"
   ]
  },
  {
   "cell_type": "markdown",
   "metadata": {},
   "source": [
    "Here We Copy The Latest News Titles  into the text file "
   ]
  },
  {
   "cell_type": "markdown",
   "metadata": {},
   "source": [
    "Reading the Text File"
   ]
  },
  {
   "cell_type": "code",
   "execution_count": 29,
   "metadata": {},
   "outputs": [],
   "source": [
    "file_path = \"C:\\\\Users\\\\HP\\\\Desktop\\\\LATEST NEWS.txt\"\n",
    "\n",
    "with open(file_path, \"r\") as file:\n",
    "    content = file.read()\n"
   ]
  },
  {
   "cell_type": "markdown",
   "metadata": {},
   "source": [
    "WORD FREQUENCY "
   ]
  },
  {
   "cell_type": "code",
   "execution_count": 33,
   "metadata": {},
   "outputs": [
    {
     "name": "stdout",
     "output_type": "stream",
     "text": [
      "              Frequency\n",
      "Word                   \n",
      "New                   1\n",
      "News                  1\n",
      "in                    3\n",
      "the                   3\n",
      "python.org            1\n",
      "section               1\n",
      "1.Kicking             1\n",
      "off                   1\n",
      "2024                  1\n",
      "strong,               1\n",
      "thanks                1\n",
      "to                    1\n",
      "our                   1\n",
      "community!            1\n",
      "2.Announcing          1\n",
      "Python                1\n",
      "Software              1\n",
      "Foundation            1\n",
      "Fellow                1\n",
      "Members               1\n",
      "for                   2\n",
      "Q3                    1\n",
      "2023!                 1\n",
      "🎉                     1\n",
      "3.Announcing          1\n",
      "Deputy                1\n",
      "Developer             2\n",
      "Residence             2\n",
      "and                   1\n",
      "Supporting            1\n",
      "4.Python              1\n",
      "3.13.0                1\n",
      "alpha                 1\n",
      "3                     1\n",
      "is                    1\n",
      "now                   1\n",
      "available.            1\n",
      "5.EU’s                1\n",
      "Cyber                 1\n",
      "Resilience            1\n",
      "Act                   1\n",
      "Passes                1\n",
      "with                  1\n",
      "Wins                  1\n",
      "Open                  1\n",
      "Source                1\n"
     ]
    }
   ],
   "source": [
    "import pandas as pd\n",
    "from collections import Counter\n",
    "\n",
    "# Read the text file\n",
    "file_path = \"C:\\\\Users\\\\HP\\\\Desktop\\\\LATEST NEWS.txt\"\n",
    "with open(file_path, \"r\") as file:\n",
    "    text = file.read()\n",
    "\n",
    "# Split the text into words\n",
    "words = text.split()\n",
    "\n",
    "# Count the frequency of each word\n",
    "word_counts = Counter(words)\n",
    "\n",
    "# Convert the word counts into a DataFrame\n",
    "df = pd.DataFrame.from_dict(word_counts, orient='index', columns=['Frequency'])\n",
    "df.index.name = 'Word'\n",
    "\n",
    "# Display the word frequency in column-wise format\n",
    "print(df)\n"
   ]
  }
 ],
 "metadata": {
  "kernelspec": {
   "display_name": "base",
   "language": "python",
   "name": "python3"
  },
  "language_info": {
   "codemirror_mode": {
    "name": "ipython",
    "version": 3
   },
   "file_extension": ".py",
   "mimetype": "text/x-python",
   "name": "python",
   "nbconvert_exporter": "python",
   "pygments_lexer": "ipython3",
   "version": "3.11.5"
  }
 },
 "nbformat": 4,
 "nbformat_minor": 2
}
